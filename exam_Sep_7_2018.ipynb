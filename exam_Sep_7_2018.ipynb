{
 "cells": [
  {
   "cell_type": "markdown",
   "metadata": {},
   "source": [
    "Before you turn this problem in, make sure everything runs as expected. First, **restart the kernel** (in the menubar, select Kernel$\\rightarrow$Restart) and then **run all cells** (in the menubar, select Cell$\\rightarrow$Run All).\n",
    "\n",
    "Make sure you fill in any place that says `YOUR CODE HERE` or \"YOUR ANSWER HERE\", as well as your name and collaborators below:"
   ]
  },
  {
   "cell_type": "code",
   "execution_count": 1,
   "metadata": {},
   "outputs": [],
   "source": [
    "NAME = \"Thomas Heijligers, #2015160#\"\n",
    "COLLABORATORS = \"\""
   ]
  },
  {
   "cell_type": "markdown",
   "metadata": {},
   "source": [
    "---"
   ]
  },
  {
   "cell_type": "markdown",
   "metadata": {
    "deletable": false,
    "editable": false,
    "nbgrader": {
     "checksum": "e53eb7da4b90cccdbeb5924177a0d295",
     "grade": false,
     "grade_id": "cell-bace731f185b39bb",
     "locked": true,
     "schema_version": 1,
     "solution": false
    }
   },
   "source": [
    "Fill in the cell above to provide us with your name and student number, like\n",
    "\n",
    "NAME = \"Adam Smith, #student number#\"\n",
    "\n",
    "where you replace \"#student number#\" with your ... (very good!)\n",
    "\n",
    "Unfortunately, you are not allowed to work with \"COLLABORATORS\" in this exam."
   ]
  },
  {
   "cell_type": "markdown",
   "metadata": {
    "deletable": false,
    "editable": false,
    "nbgrader": {
     "checksum": "6cd862f4345c0a072c59a404cda0ba85",
     "grade": false,
     "grade_id": "cell-895e9a7b94992ec9",
     "locked": true,
     "schema_version": 1,
     "solution": false
    }
   },
   "source": [
    "# exam September 7th, 2018\n",
    "\n",
    "With this python part of the exam you can earn at max. 4 points.\n",
    "\n"
   ]
  },
  {
   "cell_type": "markdown",
   "metadata": {
    "deletable": false,
    "editable": false,
    "nbgrader": {
     "checksum": "e7913cd5c9f8f9e4ad1b4b7e924a9a84",
     "grade": false,
     "grade_id": "cell-540987818af25557",
     "locked": true,
     "schema_version": 1,
     "solution": false
    }
   },
   "source": [
    "\n",
    "In the first cell of the notebook, give us your name and student number in the way indicated above. \n",
    "\n",
    "Fill in the notebook (see below for code cells and text cells that you need to fill in).\n",
    "\n",
    "If you look at the menus above (File, Edit, View etc.), there is one called \"Cell\". If you click on this, you can change the \"Cell Type\". Choose \"Code\" when you are typing python or R code. Choose \"Markdown\" when you are typing, well, markdown.\n",
    "\n",
    "When you finish the notebook, make sure that you **save it with the output of your code included**. \n",
    "\n",
    "Then put it on github, e.g. by dragging it onto github (see instructions below). \n",
    "\n",
    "Finally, add a link to your README file with the name of this exam: \"Exam September 7, 2018\".\n",
    "\n"
   ]
  },
  {
   "cell_type": "markdown",
   "metadata": {
    "deletable": false,
    "editable": false,
    "nbgrader": {
     "checksum": "de320ce66e4b6f0a0457a258dea1bd41",
     "grade": false,
     "grade_id": "cell-e1cf88cb799f1f43",
     "locked": true,
     "schema_version": 1,
     "solution": false
    }
   },
   "source": [
    "## Demand and equilibrium\n",
    "\n",
    "We start by importing the usual libraries."
   ]
  },
  {
   "cell_type": "code",
   "execution_count": 2,
   "metadata": {
    "deletable": false,
    "editable": false,
    "nbgrader": {
     "checksum": "7bd770ef54db47c3b6c8d0e31f6baef6",
     "grade": false,
     "grade_id": "cell-b895769bf40e183a",
     "locked": true,
     "schema_version": 1,
     "solution": false
    }
   },
   "outputs": [],
   "source": [
    "import matplotlib.pyplot as plt\n",
    "import pandas as pd\n",
    "import numpy as np\n",
    "from scipy import optimize\n",
    "%matplotlib inline"
   ]
  },
  {
   "cell_type": "markdown",
   "metadata": {
    "deletable": false,
    "editable": false,
    "nbgrader": {
     "checksum": "74eea1383af9a678cca5cd1641bd8cbd",
     "grade": false,
     "grade_id": "cell-83284c4090d6de8c",
     "locked": true,
     "schema_version": 1,
     "solution": false
    }
   },
   "source": [
    "#### a) [1 point] Explain in words what the following code does. Which property of booleans in python do we use for this to work?\n",
    "\n",
    "[hint: copy-paste part of the code in a cell to evaluate each step separately]"
   ]
  },
  {
   "cell_type": "code",
   "execution_count": 11,
   "metadata": {
    "deletable": false,
    "editable": false,
    "nbgrader": {
     "checksum": "a107c376d499a16a0e27d813fba3c499",
     "grade": false,
     "grade_id": "cell-7770128c0a989c60",
     "locked": true,
     "schema_version": 1,
     "solution": false
    }
   },
   "outputs": [
    {
     "data": {
      "text/plain": [
       "0.625"
      ]
     },
     "execution_count": 11,
     "metadata": {},
     "output_type": "execute_result"
    }
   ],
   "source": [
    "np.sum(np.array([1,2,3,4,5,6,7,8])>3)/len(np.array([1,2,3,4,5,6,7,8])>3)"
   ]
  },
  {
   "cell_type": "markdown",
   "metadata": {
    "deletable": false,
    "nbgrader": {
     "checksum": "3a32df4588a1c3424a5d2e79404d1f9f",
     "grade": true,
     "grade_id": "cell-8a5761555a34b60b",
     "locked": false,
     "points": 1,
     "schema_version": 1,
     "solution": true
    }
   },
   "source": [
    "\"np.sum(np.array([1,2,3,4,5,6,7,8])>3)\" zorgt ervoor dat alle variabelen die voldoen aan een eventuele eis opgeteld worden. In dit geval is de eis: de variabele moet groter zijn dan 3.\n",
    "\"len(np.array([1,2,3,4,5,6,7,8])>3)\" doordat hier \"len\" voor staat in plaats van \"np.sum\" wordt hier de lengte van de reeks opgeteld. Uiteindelijk krijg je dus 5(som van variabele > 3)/8(lengte) = 0.625."
   ]
  },
  {
   "cell_type": "markdown",
   "metadata": {
    "deletable": false,
    "editable": false,
    "nbgrader": {
     "checksum": "954d5a96439e4265a384d91a97b22648",
     "grade": false,
     "grade_id": "cell-1a9c57d4d1fc34dc",
     "locked": true,
     "schema_version": 1,
     "solution": false
    }
   },
   "source": [
    "Consider a market with 1000 consumers. Each consumer is willing to buy either 1 or 0 units of the product in this market. If the consumer does not buy, her utility equals 0.\n",
    "\n",
    "The vector of valuations of all 1000 consumers in the market is given by the vector `vector_utilities` below.\n"
   ]
  },
  {
   "cell_type": "code",
   "execution_count": 12,
   "metadata": {
    "deletable": false,
    "editable": false,
    "nbgrader": {
     "checksum": "916e0335b3020a8c0ff45e237001f8b7",
     "grade": false,
     "grade_id": "cell-d33704e6e42e5387",
     "locked": true,
     "schema_version": 1,
     "solution": false
    }
   },
   "outputs": [],
   "source": [
    "N_consumers = 1000\n",
    "vector_utilities = np.random.normal(10,3,size=N_consumers)"
   ]
  },
  {
   "cell_type": "markdown",
   "metadata": {
    "deletable": false,
    "editable": false,
    "nbgrader": {
     "checksum": "384f67102189bb6ecdfb036b331c113a",
     "grade": false,
     "grade_id": "cell-3b8ee172d9950128",
     "locked": true,
     "schema_version": 1,
     "solution": false
    }
   },
   "source": [
    "#### b) [0.5 points] Explain what the code `np.random.normal` does."
   ]
  },
  {
   "cell_type": "markdown",
   "metadata": {
    "deletable": false,
    "nbgrader": {
     "checksum": "2169b1e7f731f29c623bcc250e54e587",
     "grade": true,
     "grade_id": "cell-a5e7853f661e19b2",
     "locked": false,
     "points": 0.5,
     "schema_version": 1,
     "solution": true
    }
   },
   "source": [
    "np.random.normal zorgt ervoor dat er een willekeurige steekproef uit een normale verdeling wordt genomen."
   ]
  },
  {
   "cell_type": "markdown",
   "metadata": {
    "deletable": false,
    "editable": false,
    "nbgrader": {
     "checksum": "523c4611a9ddbfb2d6623e06f3607c07",
     "grade": false,
     "grade_id": "cell-4b33762aa4a601fe",
     "locked": true,
     "schema_version": 1,
     "solution": false
    }
   },
   "source": [
    "#### c) [1. point] (i) Create a histogram of the vector `vector_utilities`. (ii) Make sure that we have relative frequencies (not absolute numbers) on the vertical axis [hint: you can use google to figure out how this works] (iii) Put the label 'utility' on the horizontal axis and the label 'frequency' on the vertical axis."
   ]
  },
  {
   "cell_type": "code",
   "execution_count": 149,
   "metadata": {
    "deletable": false,
    "nbgrader": {
     "checksum": "16debdd606d4af967efa09bbca10b9bb",
     "grade": true,
     "grade_id": "cell-5ee215676b91f504",
     "locked": false,
     "points": 1,
     "schema_version": 1,
     "solution": true
    },
    "scrolled": true
   },
   "outputs": [
    {
     "data": {
      "image/png": "[encoded data removed]",
      "text/plain": [
       "<matplotlib.figure.Figure at 0x15168903c8>"
      ]
     },
     "metadata": {},
     "output_type": "display_data"
    }
   ],
   "source": [
    "plt.hist(vector_utilities, density = True, bins=30, label='vector utilities')\n",
    "plt.xlabel('$utility$')\n",
    "plt.ylabel('$frequency$')\n",
    "\n",
    "plt.show()"
   ]
  },
  {
   "cell_type": "markdown",
   "metadata": {},
   "source": [
    "Hierboven heb ik een histogram gemaakt van de vector \"vector_utilities\" (i). Door \"density = True\" (of Normed=True) toe te voegen staan op de verticale as relative frequencies in plaats van absolute nummers (ii). Met de plt.xlabel en plt.ylabel heb ik de namen van de assen toegevoegd."
   ]
  },
  {
   "cell_type": "markdown",
   "metadata": {
    "deletable": false,
    "editable": false,
    "nbgrader": {
     "checksum": "3485a92688a0345c2d40931951cee684",
     "grade": false,
     "grade_id": "cell-3cc076ae39753881",
     "locked": true,
     "schema_version": 1,
     "solution": false
    }
   },
   "source": [
    "#### d) [0.5 points] Complete the following function which gives for each price `p` the demand (number of consumers willing to buy at price `p`.\n",
    "\n",
    "[hint 1: what must be true for an element in `vector_utilities` for this consumer to buy the product?]\n",
    "\n",
    "[hint 2: part of what you learned under a) may be useful here]"
   ]
  },
  {
   "cell_type": "code",
   "execution_count": 141,
   "metadata": {
    "deletable": false,
    "nbgrader": {
     "checksum": "c1b2a7dbf7c6cdd23736d236c6672135",
     "grade": true,
     "grade_id": "cell-0f18e4fded25833f",
     "locked": false,
     "points": 0.5,
     "schema_version": 1,
     "solution": true
    }
   },
   "outputs": [
    {
     "name": "stdout",
     "output_type": "stream",
     "text": [
      " \n",
      "Demand if price is 0\n",
      "1000.0\n",
      " \n",
      "Demand if price is 1\n",
      "875.0\n",
      " \n",
      "Demand if price is 2\n",
      "750.0\n",
      " \n",
      "Demand if price is 3\n",
      "625.0\n",
      " \n",
      "Demand if price is 4\n",
      "500.0\n",
      " \n",
      "Demand if price is 5\n",
      "375.0\n",
      " \n",
      "Demand if price is 6\n",
      "250.0\n",
      " \n",
      "Demand if price is 7\n",
      "125.0\n",
      " \n",
      "Demand if price is 8\n",
      "0.0\n"
     ]
    }
   ],
   "source": [
    "def demand(x):\n",
    "    return 1000-(50*x)\n",
    "\n",
    "print(\" \")\n",
    "print(\"Demand if price is 0\")\n",
    "p0 = (np.sum(np.array([1,2,3,4,5,6,7,8])>0)/len(np.array([1,2,3,4,5,6,7,8])>0))*N_consumers\n",
    "def demand(p0): \n",
    "    return 1000-p\n",
    "print(p0)\n",
    "\n",
    "\n",
    "print(\" \")\n",
    "print(\"Demand if price is 1\")\n",
    "p1 = (np.sum(np.array([1,2,3,4,5,6,7,8])>1)/len(np.array([1,2,3,4,5,6,7,8])>1))*N_consumers\n",
    "def demand(p1): \n",
    "    return 1000-p\n",
    "print(p1)\n",
    "\n",
    "\n",
    "print(\" \")\n",
    "print(\"Demand if price is 2\")\n",
    "p2 = (np.sum(np.array([1,2,3,4,5,6,7,8])>2)/len(np.array([1,2,3,4,5,6,7,8])>2))*N_consumers\n",
    "def demand(p2): \n",
    "    return 1000-p\n",
    "print(p2)\n",
    "\n",
    "\n",
    "print(\" \")\n",
    "print(\"Demand if price is 3\")\n",
    "p3 = (np.sum(np.array([1,2,3,4,5,6,7,8])>3)/len(np.array([1,2,3,4,5,6,7,8])>3))*N_consumers\n",
    "def demand(p3): \n",
    "    return 1000-p\n",
    "print(p3)\n",
    "\n",
    "\n",
    "print(\" \")\n",
    "print(\"Demand if price is 4\")\n",
    "p4 = (np.sum(np.array([1,2,3,4,5,6,7,8])>4)/len(np.array([1,2,3,4,5,6,7,8])>4))*N_consumers\n",
    "def demand(p4): \n",
    "    return 1000-p\n",
    "print(p4)\n",
    "\n",
    "\n",
    "print(\" \")\n",
    "print(\"Demand if price is 5\")\n",
    "p5 = (np.sum(np.array([1,2,3,4,5,6,7,8])>5)/len(np.array([1,2,3,4,5,6,7,8])>5))*N_consumers\n",
    "def demand(p5): \n",
    "    return 1000-p\n",
    "print(p5)\n",
    "\n",
    "\n",
    "print(\" \")\n",
    "print(\"Demand if price is 6\")\n",
    "p6 = (np.sum(np.array([1,2,3,4,5,6,7,8])>6)/len(np.array([1,2,3,4,5,6,7,8])>6))*N_consumers\n",
    "def demand(p6): \n",
    "    return 1000-p\n",
    "print(p6)\n",
    "\n",
    "\n",
    "print(\" \")\n",
    "print(\"Demand if price is 7\")\n",
    "p7 = (np.sum(np.array([1,2,3,4,5,6,7,8])>7)/len(np.array([1,2,3,4,5,6,7,8])>7))*N_consumers\n",
    "def demand(p7): \n",
    "    return 1000-p\n",
    "print(p7)\n",
    "\n",
    "print(\" \")\n",
    "print(\"Demand if price is 8\")\n",
    "p8 = (np.sum(np.array([1,2,3,4,5,6,7,8])>8)/len(np.array([1,2,3,4,5,6,7,8])>8))*N_consumers\n",
    "def demand(p8): \n",
    "    return 1000-p\n",
    "print(p8)\n"
   ]
  },
  {
   "cell_type": "markdown",
   "metadata": {},
   "source": [
    "Bij deze vraag kwam ik er niet helemaal uit. Doordat ik na een tijdje door de bomen het bos niet meer zag heb ik maar als prijzen de getallen 0 tot en met 8 (uit vraag A) genomen met bijbehoorde vragen. Ik ben niet uit de functie voor p gekomen."
   ]
  },
  {
   "cell_type": "markdown",
   "metadata": {},
   "source": [
    "#### e) [0.5 points] Plot this demand function. Recall that economists tend to put quantity on the horizontal axis and price on the vertical axis.\n",
    "\n",
    "[hint: if for some reason you could not solve d) work with the following --incorrect-- demand function:\n",
    "\n",
    "`def demand(p):\n",
    "   return 1000-p`\n",
    "\n",
    "to finish the exam.]"
   ]
  },
  {
   "cell_type": "code",
   "execution_count": 143,
   "metadata": {
    "deletable": false,
    "nbgrader": {
     "checksum": "999db468136d31b16196015f24ac5fa7",
     "grade": true,
     "grade_id": "cell-e88dc4842fb2c38c",
     "locked": false,
     "points": 0.5,
     "schema_version": 1,
     "solution": true
    },
    "scrolled": true
   },
   "outputs": [
    {
     "data": {
      "image/png": "[encoded data removed]",
      "text/plain": [
       "<matplotlib.figure.Figure at 0x1516ee3ac8>"
      ]
     },
     "metadata": {},
     "output_type": "display_data"
    }
   ],
   "source": [
    "plt.plot(1000-x)\n",
    "plt.xlabel('$quantity$')\n",
    "plt.ylabel('$price$')\n",
    "plt.title('demand function')\n",
    "plt.show()\n"
   ]
  },
  {
   "cell_type": "markdown",
   "metadata": {},
   "source": [
    "Doordat de radeloosheid zeg voortzette zag ik ook hier uiteindelijk door de bomen het boos niet meer."
   ]
  },
  {
   "cell_type": "markdown",
   "metadata": {
    "deletable": false,
    "editable": false,
    "nbgrader": {
     "checksum": "4465308442518b71a3aabe5c50806149",
     "grade": false,
     "grade_id": "cell-1f9775ff27f62024",
     "locked": true,
     "schema_version": 1,
     "solution": false
    }
   },
   "source": [
    "Assume that there is a fixed supply of 400 units of this product. Consider the following function `excess demand`."
   ]
  },
  {
   "cell_type": "code",
   "execution_count": 107,
   "metadata": {
    "deletable": false,
    "editable": false,
    "nbgrader": {
     "checksum": "7483b16646d39708aeaa8cf5e4a50198",
     "grade": false,
     "grade_id": "cell-09b4afb1c848ad52",
     "locked": true,
     "schema_version": 1,
     "solution": false
    }
   },
   "outputs": [],
   "source": [
    "supply = 400\n",
    "def excess_demand(p):\n",
    "    return demand(p)-supply"
   ]
  },
  {
   "cell_type": "markdown",
   "metadata": {
    "deletable": false,
    "editable": false,
    "nbgrader": {
     "checksum": "b68a36561d750b4325b29a60cd85c95c",
     "grade": false,
     "grade_id": "cell-9847a5147fc6bc0b",
     "locked": true,
     "schema_version": 1,
     "solution": false
    }
   },
   "source": [
    "#### f) [0.5 points] Use a numerical solver to solve for the equilibrium price. Use the figure under e) to give a reasonable starting point for the numerical solver.\n",
    "\n",
    "[hint: what must be true for `excess_demand` at the equilibrium price?]"
   ]
  },
  {
   "cell_type": "markdown",
   "metadata": {
    "deletable": false,
    "nbgrader": {
     "checksum": "d9385c965608e0babffe255a7d375e19",
     "grade": true,
     "grade_id": "cell-6c036cfb38c024d3",
     "locked": false,
     "points": 0.5,
     "schema_version": 1,
     "solution": true
    }
   },
   "source": [
    "Bij de evenwichtsprijs snijden vraag en aanbod elkaar. Het aanbod is 400, de vraag moet dus ook 400 zijn.\n",
    "Als de vraag 400 is, is de excess_demand(p) 0. De vraag moet dus gelijk zijn aan 400, de prijs die hierbij hoort (als er gerekend wordt met de formule \"q=1000-p\" is 600.\n",
    "\n",
    "*Doordat ik bij D en E niet goed uit ben gekomen heb ik het antwoord geformuleerd in plaats van berekend door middel van programmeren."
   ]
  },
  {
   "cell_type": "markdown",
   "metadata": {},
   "source": [
    "## Github\n",
    "\n",
    "After you have finished, we need to upload this notebook on github."
   ]
  },
  {
   "cell_type": "markdown",
   "metadata": {},
   "source": [
    "Instructions on how to upload this on github can be found [on this page](http://janboone.github.io/programming-for-economists/github.html). This page has two screencasts: one shows how to drag the notebook onto your github page, the other shows how you can use the command line to upload your notebook.\n"
   ]
  },
  {
   "cell_type": "markdown",
   "metadata": {},
   "source": [
    "Remember to update the README file in your repository to include a link to this notebook on github.\n",
    "\n",
    "\n",
    "The links that you should post start with “github.com/” and are NOT of the form “http://localhost”. Make sure you test your links after uploading."
   ]
  },
  {
   "cell_type": "code",
   "execution_count": 151,
   "metadata": {},
   "outputs": [
    {
     "ename": "SyntaxError",
     "evalue": "invalid syntax (<ipython-input-151-5151f9d7c9e7>, line 1)",
     "output_type": "error",
     "traceback": [
      "\u001b[0;36m  File \u001b[0;32m\"<ipython-input-151-5151f9d7c9e7>\"\u001b[0;36m, line \u001b[0;32m1\u001b[0m\n\u001b[0;31m    http://github.com/thomasheijligers/assignments\u001b[0m\n\u001b[0m          ^\u001b[0m\n\u001b[0;31mSyntaxError\u001b[0m\u001b[0;31m:\u001b[0m invalid syntax\n"
     ]
    }
   ],
   "source": [
    "github.com/thomasheijligers/assignments"
   ]
  }
 ],
 "metadata": {
  "anaconda-cloud": {},
  "kernelspec": {
   "display_name": "Python 3",
   "language": "python",
   "name": "python3"
  },
  "language_info": {
   "codemirror_mode": {
    "name": "ipython",
    "version": 3
   },
   "file_extension": ".py",
   "mimetype": "text/x-python",
   "name": "python",
   "nbconvert_exporter": "python",
   "pygments_lexer": "ipython3",
   "version": "3.6.4"
  }
 },
 "nbformat": 4,
 "nbformat_minor": 1
}
